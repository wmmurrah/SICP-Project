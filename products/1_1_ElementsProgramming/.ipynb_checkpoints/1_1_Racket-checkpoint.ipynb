{
 "cells": [
  {
   "cell_type": "markdown",
   "metadata": {},
   "source": [
    "# 1.1 Elements of Programming"
   ]
  },
  {
   "cell_type": "markdown",
   "metadata": {},
   "source": [
    "### Exercise 1.2"
   ]
  },
  {
   "cell_type": "markdown",
   "metadata": {},
   "source": [
    "$$\\frac{5 + 4 + (2 - (3 - (6 + \\frac{4}{5})))}{3(6 - 2)(2 - 7)}$$"
   ]
  },
  {
   "cell_type": "code",
   "execution_count": 1,
   "metadata": {},
   "outputs": [
    {
     "data": {
      "text/html": [
       "<code>-0.24666666666666667</code>"
      ],
      "text/plain": [
       "-0.24666666666666667"
      ]
     },
     "execution_count": 1,
     "metadata": {},
     "output_type": "execute_result"
    }
   ],
   "source": [
    "(/ (+ 5 4 \n",
    "      (- 2 \n",
    "         (- 3\n",
    "          (+ 6 \n",
    "             (/ 4.0 5)\n",
    "             )\n",
    "          )\n",
    "         )\n",
    "      )\n",
    "   (* 3 \n",
    "      (- 6 \n",
    "         2) \n",
    "      (- 2 \n",
    "         7)\n",
    "      )\n",
    "   )"
   ]
  },
  {
   "cell_type": "markdown",
   "metadata": {},
   "source": [
    "## Exercise 1.3"
   ]
  },
  {
   "cell_type": "code",
   "execution_count": 4,
   "metadata": {},
   "outputs": [],
   "source": [
    "(define (ss a b)\n",
    "  (+ (* a a)\n",
    "     (* b b)))\n",
    "  \n",
    "(define (ss-2large a b c)\n",
    "  (cond \n",
    "   ((and (>= a c) (>= b c)) (ss a b))\n",
    "   ((and (>= a b) (>= c b)) (ss a c))\n",
    "   ((and (>= b a) (>= c a)) (ss b c))))"
   ]
  },
  {
   "cell_type": "code",
   "execution_count": 5,
   "metadata": {},
   "outputs": [
    {
     "data": {
      "text/html": [
       "<code>13</code>"
      ],
      "text/plain": [
       "13"
      ]
     },
     "execution_count": 5,
     "metadata": {},
     "output_type": "execute_result"
    }
   ],
   "source": [
    "(ss-2large 1 2 3)"
   ]
  },
  {
   "cell_type": "code",
   "execution_count": 6,
   "metadata": {},
   "outputs": [
    {
     "data": {
      "text/html": [
       "<code>2</code>"
      ],
      "text/plain": [
       "2"
      ]
     },
     "execution_count": 6,
     "metadata": {},
     "output_type": "execute_result"
    }
   ],
   "source": [
    "(ss-2large 1 1 1)"
   ]
  },
  {
   "cell_type": "code",
   "execution_count": 7,
   "metadata": {},
   "outputs": [
    {
     "data": {
      "text/html": [
       "<code>8</code>"
      ],
      "text/plain": [
       "8"
      ]
     },
     "execution_count": 7,
     "metadata": {},
     "output_type": "execute_result"
    }
   ],
   "source": [
    "(ss-2large 1 2 2)"
   ]
  },
  {
   "cell_type": "code",
   "execution_count": 8,
   "metadata": {},
   "outputs": [
    {
     "data": {
      "text/html": [
       "<code>5</code>"
      ],
      "text/plain": [
       "5"
      ]
     },
     "execution_count": 8,
     "metadata": {},
     "output_type": "execute_result"
    }
   ],
   "source": [
    "(ss-2large 1 1 2)"
   ]
  },
  {
   "cell_type": "code",
   "execution_count": null,
   "metadata": {},
   "outputs": [],
   "source": []
  }
 ],
 "metadata": {
  "kernelspec": {
   "display_name": "Racket",
   "language": "racket",
   "name": "racket"
  },
  "language_info": {
   "codemirror_mode": "scheme",
   "file_extension": ".rkt",
   "mimetype": "text/x-racket",
   "name": "Racket",
   "pygments_lexer": "racket",
   "version": "7.7"
  }
 },
 "nbformat": 4,
 "nbformat_minor": 4
}
